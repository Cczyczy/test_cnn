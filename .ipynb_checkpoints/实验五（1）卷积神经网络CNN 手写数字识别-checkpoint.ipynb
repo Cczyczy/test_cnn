{
 "cells": [
  {
   "cell_type": "code",
   "execution_count": 1,
   "metadata": {
    "scrolled": true
   },
   "outputs": [
    {
     "name": "stderr",
     "output_type": "stream",
     "text": [
      "C:\\tensorflow\\lib\\site-packages\\h5py\\__init__.py:36: FutureWarning: Conversion of the second argument of issubdtype from `float` to `np.floating` is deprecated. In future, it will be treated as `np.float64 == np.dtype(float).type`.\n",
      "  from ._conv import register_converters as _register_converters\n"
     ]
    },
    {
     "name": "stdout",
     "output_type": "stream",
     "text": [
      "WARNING:tensorflow:From <ipython-input-1-d5e1f6e66809>:2: read_data_sets (from tensorflow.contrib.learn.python.learn.datasets.mnist) is deprecated and will be removed in a future version.\n",
      "Instructions for updating:\n",
      "Please use alternatives such as official/mnist/dataset.py from tensorflow/models.\n",
      "WARNING:tensorflow:From C:\\tensorflow\\lib\\site-packages\\tensorflow\\contrib\\learn\\python\\learn\\datasets\\mnist.py:260: maybe_download (from tensorflow.contrib.learn.python.learn.datasets.base) is deprecated and will be removed in a future version.\n",
      "Instructions for updating:\n",
      "Please write your own downloading logic.\n",
      "WARNING:tensorflow:From C:\\tensorflow\\lib\\site-packages\\tensorflow\\contrib\\learn\\python\\learn\\datasets\\mnist.py:262: extract_images (from tensorflow.contrib.learn.python.learn.datasets.mnist) is deprecated and will be removed in a future version.\n",
      "Instructions for updating:\n",
      "Please use tf.data to implement this functionality.\n",
      "Extracting C:/Users/31902/data/MNIST\\train-images-idx3-ubyte.gz\n",
      "WARNING:tensorflow:From C:\\tensorflow\\lib\\site-packages\\tensorflow\\contrib\\learn\\python\\learn\\datasets\\mnist.py:267: extract_labels (from tensorflow.contrib.learn.python.learn.datasets.mnist) is deprecated and will be removed in a future version.\n",
      "Instructions for updating:\n",
      "Please use tf.data to implement this functionality.\n",
      "Extracting C:/Users/31902/data/MNIST\\train-labels-idx1-ubyte.gz\n",
      "Extracting C:/Users/31902/data/MNIST\\t10k-images-idx3-ubyte.gz\n",
      "Extracting C:/Users/31902/data/MNIST\\t10k-labels-idx1-ubyte.gz\n",
      "WARNING:tensorflow:From C:\\tensorflow\\lib\\site-packages\\tensorflow\\contrib\\learn\\python\\learn\\datasets\\mnist.py:290: DataSet.__init__ (from tensorflow.contrib.learn.python.learn.datasets.mnist) is deprecated and will be removed in a future version.\n",
      "Instructions for updating:\n",
      "Please use alternatives such as official/mnist/dataset.py from tensorflow/models.\n",
      "完成数据集的加载\n"
     ]
    }
   ],
   "source": [
    "from tensorflow.examples.tutorials.mnist import input_data\n",
    "data = input_data.read_data_sets(\"C:/Users/31902/data/MNIST\",one_hot=False)\n",
    "print('完成数据集的加载')"
   ]
  },
  {
   "cell_type": "code",
   "execution_count": 2,
   "metadata": {},
   "outputs": [
    {
     "name": "stdout",
     "output_type": "stream",
     "text": [
      "1.0 0.0\n",
      "[7 3 4 6 1 8 1 0 9 8]\n",
      "X0的形状= (55000, 784)  Y0的形状= (55000,)  X1的形状= (5000, 784)  Y1的形状= (5000,)得到训练集和测试集\n"
     ]
    }
   ],
   "source": [
    "import numpy as np\n",
    "X0 = data.train.images\n",
    "Y0 = data.train.labels\n",
    "print(np.max(X0),np.min(X0))\n",
    "print(Y0[0:10])\n",
    "X1 = data.validation.images\n",
    "Y1 = data.validation.labels\n",
    "print('X0的形状=',X0.shape,end=\"\")\n",
    "print('  Y0的形状=',Y0.shape,end=\"\")\n",
    "print('  X1的形状=',X1.shape,end=\"\")\n",
    "print('  Y1的形状=',Y1.shape,end=\"\")\n",
    "print('得到训练集和测试集')"
   ]
  },
  {
   "cell_type": "code",
   "execution_count": 3,
   "metadata": {},
   "outputs": [
    {
     "name": "stdout",
     "output_type": "stream",
     "text": [
      "[7 3 4 6 1]\n",
      "[[0. 0. 0. 0. 0. 0. 0. 1. 0. 0.]\n",
      " [0. 0. 0. 1. 0. 0. 0. 0. 0. 0.]\n",
      " [0. 0. 0. 0. 1. 0. 0. 0. 0. 0.]\n",
      " [0. 0. 0. 0. 0. 0. 1. 0. 0. 0.]\n",
      " [0. 1. 0. 0. 0. 0. 0. 0. 0. 0.]]\n"
     ]
    },
    {
     "name": "stderr",
     "output_type": "stream",
     "text": [
      "Using TensorFlow backend.\n"
     ]
    }
   ],
   "source": [
    "print(Y0[0:5])\n",
    "from keras.utils import to_categorical\n",
    "YY0=to_categorical(Y0)\n",
    "YY1=to_categorical(Y1)\n",
    "print(YY0[0:5,:])"
   ]
  },
  {
   "cell_type": "code",
   "execution_count": 4,
   "metadata": {
    "scrolled": true
   },
   "outputs": [
    {
     "name": "stdout",
     "output_type": "stream",
     "text": [
      "(10,)\n",
      "(784,)\n",
      "(28, 28)\n",
      "(784,)\n",
      "(28, 28)\n",
      "(784,)\n",
      "(28, 28)\n",
      "(784,)\n",
      "(28, 28)\n",
      "(784,)\n",
      "(28, 28)\n",
      "(784,)\n",
      "(28, 28)\n",
      "(784,)\n",
      "(28, 28)\n",
      "(784,)\n",
      "(28, 28)\n",
      "(784,)\n",
      "(28, 28)\n",
      "(784,)\n",
      "(28, 28)\n"
     ]
    }
   ],
   "source": [
    "from matplotlib import pyplot as plt\n",
    "plt.figure()\n",
    "fig,ax = plt.subplots(2,5)\n",
    "ax=ax.flatten()\n",
    "print(ax.shape)\n",
    "for i in range(10):\n",
    "    Im=X0[i,:]\n",
    "    print(Im.shape)\n",
    "    Im=Im.reshape(28,28)\n",
    "    print(Im.shape)\n",
    "    ax[i].imshow(Im,cmap='gray')"
   ]
  },
  {
   "cell_type": "code",
   "execution_count": 5,
   "metadata": {},
   "outputs": [
    {
     "name": "stdout",
     "output_type": "stream",
     "text": [
      "X0的形状= (55000, 28, 28, 1)  X1的形状= (5000, 28, 28, 1)\n"
     ]
    },
    {
     "data": {
      "text/plain": [
       "<Figure size 432x288 with 0 Axes>"
      ]
     },
     "metadata": {},
     "output_type": "display_data"
    },
    {
     "data": {
      "image/png": "[encoded data removed]",
      "text/plain": [
       "<Figure size 432x288 with 10 Axes>"
      ]
     },
     "metadata": {},
     "output_type": "display_data"
    }
   ],
   "source": [
    "from matplotlib import pyplot as plt\n",
    "N0=X0.shape[0];N1=X1.shape[0]\n",
    "X0=X0.reshape(N0,28,28,1)\n",
    "X1=X1.reshape(N1,28,28,1)\n",
    "print('X0的形状=',X0.shape,end=\"\")\n",
    "print('  X1的形状=',X1.shape)\n",
    "plt.figure()\n",
    "fig,ax = plt.subplots(2,5)\n",
    "ax=ax.flatten()\n",
    "for i in range(10):\n",
    "    Im=X0[i,:]\n",
    "    Im=Im.reshape(28,28)\n",
    "    ax[i].imshow(Im,cmap='gray')"
   ]
  },
  {
   "cell_type": "code",
   "execution_count": 6,
   "metadata": {},
   "outputs": [
    {
     "name": "stdout",
     "output_type": "stream",
     "text": [
      "_________________________________________________________________\n",
      "Layer (type)                 Output Shape              Param #   \n",
      "=================================================================\n",
      "input_1 (InputLayer)         (None, 28, 28, 1)         0         \n",
      "_________________________________________________________________\n",
      "conv2d_1 (Conv2D)            (None, 28, 28, 1)         26        \n",
      "_________________________________________________________________\n",
      "max_pooling2d_1 (MaxPooling2 (None, 14, 14, 1)         0         \n",
      "_________________________________________________________________\n",
      "flatten_1 (Flatten)          (None, 196)               0         \n",
      "_________________________________________________________________\n",
      "dense_1 (Dense)              (None, 10)                1970      \n",
      "=================================================================\n",
      "Total params: 1,996\n",
      "Trainable params: 1,996\n",
      "Non-trainable params: 0\n",
      "_________________________________________________________________\n"
     ]
    }
   ],
   "source": [
    "from keras.layers import Conv2D,Dense,Flatten,Input,MaxPooling2D\n",
    "from keras import Model\n",
    "input_layer = Input([28,28,1])\n",
    "x = input_layer\n",
    "x = Conv2D(1,[5,5],padding = \"same\",activation = 'relu')(x)\n",
    "x = MaxPooling2D(pool_size = [2,2],strides = [2,2])(x)\n",
    "x = Flatten()(x)\n",
    "x = Dense(10,activation = 'softmax')(x)\n",
    "output_layer=x\n",
    "model3=Model(input_layer,output_layer)\n",
    "model3.summary()"
   ]
  },
  {
   "cell_type": "code",
   "execution_count": 7,
   "metadata": {},
   "outputs": [],
   "source": [
    "from keras.optimizers import Adam\n",
    "model3.compile(optimizer = Adam(0.01),loss = 'categorical_crossentropy',metrics = ['accuracy'])"
   ]
  },
  {
   "cell_type": "code",
   "execution_count": 8,
   "metadata": {},
   "outputs": [
    {
     "name": "stdout",
     "output_type": "stream",
     "text": [
      "Train on 55000 samples, validate on 5000 samples\n",
      "Epoch 1/10\n",
      "55000/55000 [==============================] - 7s 132us/step - loss: 0.4985 - acc: 0.8527 - val_loss: 0.3007 - val_acc: 0.9096\n",
      "Epoch 2/10\n",
      "55000/55000 [==============================] - 7s 129us/step - loss: 0.3034 - acc: 0.9105 - val_loss: 0.2798 - val_acc: 0.9180\n",
      "Epoch 3/10\n",
      "55000/55000 [==============================] - 7s 130us/step - loss: 0.2824 - acc: 0.9172 - val_loss: 0.2579 - val_acc: 0.9256\n",
      "Epoch 4/10\n",
      "55000/55000 [==============================] - 7s 130us/step - loss: 0.2707 - acc: 0.9211 - val_loss: 0.2661 - val_acc: 0.9232\n",
      "Epoch 5/10\n",
      "55000/55000 [==============================] - 7s 130us/step - loss: 0.2637 - acc: 0.9227 - val_loss: 0.2546 - val_acc: 0.9300\n",
      "Epoch 6/10\n",
      "55000/55000 [==============================] - 7s 129us/step - loss: 0.2624 - acc: 0.9225 - val_loss: 0.2592 - val_acc: 0.9270\n",
      "Epoch 7/10\n",
      "55000/55000 [==============================] - 7s 129us/step - loss: 0.2571 - acc: 0.9252 - val_loss: 0.2593 - val_acc: 0.92400.925\n",
      "Epoch 8/10\n",
      "55000/55000 [==============================] - 7s 129us/step - loss: 0.2532 - acc: 0.9265 - val_loss: 0.2491 - val_acc: 0.9318\n",
      "Epoch 9/10\n",
      "55000/55000 [==============================] - 7s 129us/step - loss: 0.2507 - acc: 0.9271 - val_loss: 0.2439 - val_acc: 0.92782478  - ETA: 1s - loss: 0.\n",
      "Epoch 10/10\n",
      "55000/55000 [==============================] - 7s 129us/step - loss: 0.2495 - acc: 0.9267 - val_loss: 0.2578 - val_acc: 0.9242oss: 0.2505 - acc - ETA: 2 - ETA: 0s - loss: 0.2489 - acc: 0.\n",
      "完成CNN模型的训练和预测\n"
     ]
    }
   ],
   "source": [
    "history=model3.fit(X0,YY0,validation_data=(X1,YY1),batch_size=200,epochs=10)\n",
    "print(\"完成CNN模型的训练和预测\")"
   ]
  },
  {
   "cell_type": "code",
   "execution_count": 9,
   "metadata": {},
   "outputs": [
    {
     "data": {
      "image/png": "[encoded data removed]",
      "text/plain": [
       "<Figure size 1080x360 with 2 Axes>"
      ]
     },
     "metadata": {},
     "output_type": "display_data"
    }
   ],
   "source": [
    "def plot_acc_loss_curve(history):\n",
    "    from matplotlib import pyplot as plt\n",
    "    acc = history.history['acc']\n",
    "    val_acc = history.history['val_acc']\n",
    "    loss = history.history['loss']\n",
    "    val_loss = history.history['val_loss']\n",
    "    \n",
    "    plt.figure(figsize=(15, 5))\n",
    "    plt.subplot(1, 2, 1)\n",
    "    plt.plot(acc,label='Training Accuracy')\n",
    "    plt.plot(val_acc, label='Validation Accuracy')\n",
    "    plt.title(\"Training and Validation Accuracy\")\n",
    "    plt.legend()\n",
    "    plt.grid()\n",
    "    \n",
    "    plt.subplot(1, 2, 2)\n",
    "    plt.plot(loss,label='Training loss')\n",
    "    plt.plot(val_loss,label='Validation loss')\n",
    "    plt.title('Training and Validation Loss')\n",
    "    plt.legend()\n",
    "    plt.grid()\n",
    "    plt.show()\n",
    "plot_acc_loss_curve(history)"
   ]
  },
  {
   "cell_type": "code",
   "execution_count": 10,
   "metadata": {},
   "outputs": [
    {
     "name": "stdout",
     "output_type": "stream",
     "text": [
      "[<keras.engine.input_layer.InputLayer object at 0x0000020BD1FE2F28>, <keras.layers.convolutional.Conv2D object at 0x0000020BD2030278>, <keras.layers.pooling.MaxPooling2D object at 0x0000020BD1FE28D0>, <keras.layers.core.Flatten object at 0x0000020BD2030080>, <keras.layers.core.Dense object at 0x0000020BD2257A90>]\n"
     ]
    }
   ],
   "source": [
    "print(model3.layers)"
   ]
  },
  {
   "cell_type": "code",
   "execution_count": 11,
   "metadata": {
    "scrolled": false
   },
   "outputs": [
    {
     "name": "stdout",
     "output_type": "stream",
     "text": [
      "(5, 5, 1, 1)\n"
     ]
    },
    {
     "data": {
      "text/plain": [
       "[array([[[[ 0.04961988]],\n",
       " \n",
       "         [[ 0.39250547]],\n",
       " \n",
       "         [[-0.04936446]],\n",
       " \n",
       "         [[-0.21566582]],\n",
       " \n",
       "         [[-0.2295121 ]]],\n",
       " \n",
       " \n",
       "        [[[ 0.4341537 ]],\n",
       " \n",
       "         [[ 0.09431356]],\n",
       " \n",
       "         [[ 0.21817543]],\n",
       " \n",
       "         [[ 0.10679254]],\n",
       " \n",
       "         [[-0.07178333]]],\n",
       " \n",
       " \n",
       "        [[[-0.6223956 ]],\n",
       " \n",
       "         [[-0.14824599]],\n",
       " \n",
       "         [[-0.00676803]],\n",
       " \n",
       "         [[ 0.265285  ]],\n",
       " \n",
       "         [[ 0.12942061]]],\n",
       " \n",
       " \n",
       "        [[[-0.84999096]],\n",
       " \n",
       "         [[-0.36403748]],\n",
       " \n",
       "         [[-0.08352936]],\n",
       " \n",
       "         [[ 0.30185875]],\n",
       " \n",
       "         [[ 0.54975927]]],\n",
       " \n",
       " \n",
       "        [[[ 0.7793199 ]],\n",
       " \n",
       "         [[ 0.09426371]],\n",
       " \n",
       "         [[-0.3659209 ]],\n",
       " \n",
       "         [[ 0.39393103]],\n",
       " \n",
       "         [[ 0.7163295 ]]]], dtype=float32), array([0.08888809], dtype=float32)]"
      ]
     },
     "execution_count": 11,
     "metadata": {},
     "output_type": "execute_result"
    }
   ],
   "source": [
    "print(model3.layers[1].get_weights()[0].shape)\n",
    "model3.layers[1].get_weights()"
   ]
  },
  {
   "cell_type": "code",
   "execution_count": 12,
   "metadata": {},
   "outputs": [
    {
     "name": "stdout",
     "output_type": "stream",
     "text": [
      "(196, 10)\n",
      "(10,)\n"
     ]
    },
    {
     "data": {
      "text/plain": [
       "[array([[ 0.22737317,  1.240219  , -0.21877186, ...,  0.70008713,\n",
       "         -1.2996451 ,  0.08153631],\n",
       "        [-0.26450828,  1.0773145 , -0.39924237, ...,  0.8046904 ,\n",
       "         -1.2554512 , -0.14799292],\n",
       "        [-0.3935284 ,  0.8653676 , -0.0888494 , ...,  0.61852133,\n",
       "         -1.2455901 , -0.03061462],\n",
       "        ...,\n",
       "        [-0.6722397 ,  0.39425123, -1.138307  , ...,  0.7302276 ,\n",
       "         -0.63328874,  1.3691518 ],\n",
       "        [-0.20470592,  0.5165156 , -1.003815  , ...,  0.36398122,\n",
       "         -1.0147971 ,  0.64172614],\n",
       "        [-0.04852824,  1.055216  , -0.31149593, ...,  0.5489374 ,\n",
       "         -1.1936241 , -0.13499282]], dtype=float32),\n",
       " array([-4.9392506e-04,  1.2397183e+00, -2.5395787e-01, -5.7006896e-01,\n",
       "         4.8487341e-01,  8.7289608e-01, -2.6431513e-01,  1.0527103e+00,\n",
       "        -1.7548692e+00, -1.6451940e-01], dtype=float32)]"
      ]
     },
     "execution_count": 12,
     "metadata": {},
     "output_type": "execute_result"
    }
   ],
   "source": [
    "print(model3.layers[4].get_weights()[0].shape)\n",
    "print(model3.layers[4].get_weights()[1].shape)\n",
    "model3.layers[4].get_weights()"
   ]
  }
 ],
 "metadata": {
  "kernelspec": {
   "display_name": "Python 3",
   "language": "python",
   "name": "python3"
  },
  "language_info": {
   "codemirror_mode": {
    "name": "ipython",
    "version": 3
   },
   "file_extension": ".py",
   "mimetype": "text/x-python",
   "name": "python",
   "nbconvert_exporter": "python",
   "pygments_lexer": "ipython3",
   "version": "3.6.5"
  }
 },
 "nbformat": 4,
 "nbformat_minor": 2
}
